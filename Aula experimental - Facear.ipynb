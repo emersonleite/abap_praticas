{
 "cells": [
  {
   "cell_type": "markdown",
   "metadata": {
    "collapsed": true,
    "slideshow": {
     "slide_type": "slide"
    }
   },
   "source": [
    "# Resistência dos Materiais\n",
    "\n",
    "## 1. Propriedades mecânica dos materiais\n",
    "\n",
    "\n",
    "1.1 Resistência mecânica - permite que o material seja capaz de resistir à ação de determinados tipos de\n",
    "esforços, como a tração e a compressão (resistência à tração e resistência à compressão). \n",
    "\n",
    "1.2 Elasticidade - capacidade que o material deve ter de se deformar quando\n",
    "submetido a um esforço, e de voltar à forma original quando o esforço termina. \n",
    "\n",
    "1.3 Plasticidade -  capacidade que o material deve ter de se deformar quando\n",
    "submetido a um esforço, e de manter essa forma quando o esforço desaparece. Ex. produção de chapas.\n",
    "\n",
    "1.4 Dureza - resistência do material à penetração, à deformação plástica permanente\n",
    "e ao desgaste. \n",
    "\n",
    "1.5 Fragilidade - baixa resistência à choques."
   ]
  },
  {
   "attachments": {
    "Captura%20de%20tela%20de%202018-02-05%2013-15-33.png": {
     "image/png": "[encoded data removed]"
    }
   },
   "cell_type": "markdown",
   "metadata": {
    "slideshow": {
     "slide_type": "slide"
    }
   },
   "source": [
    "## 2. Diagrama Tensão x Deformação\n",
    "\n",
    "- Importante para o entendimento das relações tensões aplicadas x deformações de materiais utilizados para constução de estruturas. Dentre eles temos o aço, concreto, entre outros;\n",
    "\n",
    "\n",
    "\n",
    "\n",
    "- Suma importância, portanto, que seja do conhecimento de qualquer engenheiro as propriedades mecânicias dos materiais;\n",
    "\n",
    "\n",
    "\n",
    "\n",
    "- As propriedades mecânicas dos materiais são determinadas através da execução de ensaios, com a aplicação de cargas, onde são consideradas sua natureza, duração e as condições ambientais.\n",
    "\n",
    "\n",
    "\n",
    "\n",
    "- As cargas podem de ser de tração, compressão ou cisalhamento;\n",
    "\n",
    "\n",
    "\n",
    "\n",
    "\n",
    "- As técnicas de ensaio são padronizadas, ou seja, normalizadas.\n",
    "\n",
    "\n",
    "\n",
    "\n",
    "- Um dos ensaios mais utilizados de tensão-deformação mais utilizados é executado sobre carga de tração. Se dá de maneira gradativa, uniaxial, na extremidades do corpo de prova.\n",
    "\n",
    "![Captura%20de%20tela%20de%202018-02-05%2013-15-33.png](attachment:Captura%20de%20tela%20de%202018-02-05%2013-15-33.png)"
   ]
  },
  {
   "attachments": {
    "Captura%20de%20tela%20de%202018-02-05%2013-15-33.png": {
     "image/png": "[encoded data removed]"
    }
   },
   "cell_type": "markdown",
   "metadata": {
    "slideshow": {
     "slide_type": "slide"
    }
   },
   "source": [
    "- Sendo F a força aplicada, A0 a area da seção e l0 o comprimento inicial do corpo de prova.\n",
    "\n",
    "- Para materias metálicos esse ensaio é padronizado pela ABNT ISO 6892-1: Materiais metálicos - Ensaio de tração.\n",
    "\n",
    "- O resultado do ensaio é registrado sob a forma de um gráfico relacionando a carga em função do alongamento.\n",
    "\n",
    "### 2.1 Tensão de Engenharia e Deformação de Engenharia\n",
    "\n",
    "- A tensão convencional, nominal ou de engenharia $\\sigma_{c}$, ou, simplesmente  $\\sigma$, é dado por:\n",
    "\n",
    "    $\\sigma = \\frac{F}{A_{0}}$ , onde F é a carga instantanea aplicada em uma direção perpendicular à seção reta da amostra, e $A_{0}$ é a área da seção reta original.\n",
    "\n",
    "- A unidade no Sistema internacional é o $N/m^{2}$, denominado Pa (Pascal), ou seu múltiplo, MPa.\n",
    "\n",
    "![Captura%20de%20tela%20de%202018-02-05%2013-15-33.png](attachment:Captura%20de%20tela%20de%202018-02-05%2013-15-33.png)\n",
    "\n",
    "                    Alongamento de uma barra cilíndrica de um material metálico submetido a\n",
    "                    uma carga de tração uniaxial (Adaptada de SMITH, 1998). "
   ]
  },
  {
   "cell_type": "markdown",
   "metadata": {},
   "source": [
    "\n",
    "- A deformação em engenharia é dada por : $\\varepsilon=\\frac{l_{i}-l_{0}}{l_{0}}=\\frac{\\delta l}{l_{0}}$, onde:\n",
    " $l_{0}$ é o comprimento inicial;\n",
    " $l_{i}$ é o comprimento instantaneo;\n",
    " $\\delta l$ é a deformação.\n",
    "\n",
    "- A deformação é adimensional.\n",
    "\n",
    "### 2.2 Comportamento tensão x deformação\n",
    "\n",
    "- A maioria do materiais metálicos, até determinado ponto, apresentam proporcionalidade entre tensão aplicada e deformação.\n",
    "\n",
    "- Essa relação de proporcinalidade foi obtida em analogia à lei de Hooke, cuja equação é $F=k.x$.\n",
    "\n",
    "- A constante de proporcionalidade $E$, denominada módulo de elasticidade ou módulo de Young, fornece uma indicação da rigidez do material (resistência do material à deformação elástica) e é dado por: \n",
    "\n",
    "\n",
    "\n",
    "$\\sigma=E.\\varepsilon$            ou             $E = \\frac{\\sigma}{\\varepsilon} = \\frac{F.{l_{0}}}{A_{0}.\\delta l}$\n",
    "\n",
    "- O valor de $E$ é geralmente expresso em $GPa$."
   ]
  },
  {
   "cell_type": "code",
   "execution_count": null,
   "metadata": {},
   "outputs": [],
   "source": []
  }
 ],
 "metadata": {
  "celltoolbar": "Slideshow",
  "hide_input": false,
  "kernelspec": {
   "display_name": "Python 3.6",
   "language": "python",
   "name": "python36"
  },
  "language_info": {
   "codemirror_mode": {
    "name": "ipython",
    "version": 3
   },
   "file_extension": ".py",
   "mimetype": "text/x-python",
   "name": "python",
   "nbconvert_exporter": "python",
   "pygments_lexer": "ipython3",
   "version": "3.6.3"
  },
  "latex_envs": {
   "LaTeX_envs_menu_present": true,
   "autoclose": false,
   "autocomplete": true,
   "bibliofile": "biblio.bib",
   "cite_by": "apalike",
   "current_citInitial": 1,
   "eqLabelWithNumbers": true,
   "eqNumInitial": 1,
   "hotkeys": {
    "equation": "Ctrl-E",
    "itemize": "Ctrl-I"
   },
   "labels_anchors": false,
   "latex_user_defs": false,
   "report_style_numbering": false,
   "user_envs_cfg": false
  },
  "nbTranslate": {
   "displayLangs": [
    "*"
   ],
   "hotkey": "alt-t",
   "langInMainMenu": true,
   "sourceLang": "en",
   "targetLang": "fr",
   "useGoogleTranslate": true
  },
  "toc": {
   "nav_menu": {},
   "number_sections": true,
   "sideBar": true,
   "skip_h1_title": false,
   "toc_cell": false,
   "toc_position": {},
   "toc_section_display": "block",
   "toc_window_display": false
  },
  "varInspector": {
   "cols": {
    "lenName": 16,
    "lenType": 16,
    "lenVar": 40
   },
   "kernels_config": {
    "python": {
     "delete_cmd_postfix": "",
     "delete_cmd_prefix": "del ",
     "library": "var_list.py",
     "varRefreshCmd": "print(var_dic_list())"
    },
    "r": {
     "delete_cmd_postfix": ") ",
     "delete_cmd_prefix": "rm(",
     "library": "var_list.r",
     "varRefreshCmd": "cat(var_dic_list()) "
    }
   },
   "types_to_exclude": [
    "module",
    "function",
    "builtin_function_or_method",
    "instance",
    "_Feature"
   ],
   "window_display": false
  }
 },
 "nbformat": 4,
 "nbformat_minor": 2
}
